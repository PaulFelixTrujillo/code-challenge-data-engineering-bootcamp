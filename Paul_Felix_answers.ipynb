{
 "cells": [
  {
   "cell_type": "markdown",
   "id": "d52e731d",
   "metadata": {},
   "source": [
    "# Data Bootcamp Selection Challenge"
   ]
  },
  {
   "cell_type": "markdown",
   "id": "b8816128",
   "metadata": {},
   "source": [
    "\n",
    "In this challenge you will calculate various KPIs using a car based dataset, each question will have a single correct answer that will be evaluated through automated unit testing. Use the dictionary provided below to fill in your answers, each question will state the format required for the answer and examples are provided so you know how properly fill the answer dictionary."
   ]
  },
  {
   "cell_type": "markdown",
   "id": "6166d1bb",
   "metadata": {},
   "source": [
    "## Answers Dictionary"
   ]
  },
  {
   "cell_type": "code",
   "execution_count": 1,
   "id": "d9bdc6a5",
   "metadata": {},
   "outputs": [],
   "source": [
    "answer_dict =  {\"Q1\" : None,\n",
    "                \"Q2\" : None,\n",
    "                \"Q3\" : None,\n",
    "                \"Q4\" : None,\n",
    "                \"Q5\" : None,\n",
    "                \"Q6\" : None,\n",
    "                \"Q7\" : None}"
   ]
  },
  {
   "cell_type": "markdown",
   "id": "ebad0fdb",
   "metadata": {},
   "source": [
    "## Reading the dataset"
   ]
  },
  {
   "cell_type": "code",
   "execution_count": 2,
   "id": "35f5f7ca",
   "metadata": {},
   "outputs": [],
   "source": [
    "import pandas as pd\n",
    "import numpy as np\n",
    "url='https://drive.google.com/file/d/1PCJ7ltluquoXKi6MYTPMfwZQNI_-MIFP/view?usp=sharing'\n",
    "url='https://drive.google.com/uc?id=' + url.split('/')[-2]\n",
    "df = pd.read_csv(url)"
   ]
  },
  {
   "cell_type": "code",
   "execution_count": 3,
   "id": "07dee1b3",
   "metadata": {},
   "outputs": [
    {
     "data": {
      "text/html": [
       "<div>\n",
       "<style scoped>\n",
       "    .dataframe tbody tr th:only-of-type {\n",
       "        vertical-align: middle;\n",
       "    }\n",
       "\n",
       "    .dataframe tbody tr th {\n",
       "        vertical-align: top;\n",
       "    }\n",
       "\n",
       "    .dataframe thead th {\n",
       "        text-align: right;\n",
       "    }\n",
       "</style>\n",
       "<table border=\"1\" class=\"dataframe\">\n",
       "  <thead>\n",
       "    <tr style=\"text-align: right;\">\n",
       "      <th></th>\n",
       "      <th>Make</th>\n",
       "      <th>Model</th>\n",
       "      <th>Year</th>\n",
       "      <th>Engine Displacement</th>\n",
       "      <th>Cylinders</th>\n",
       "      <th>Transmission</th>\n",
       "      <th>Drivetrain</th>\n",
       "      <th>Vehicle Class</th>\n",
       "      <th>Fuel Type</th>\n",
       "      <th>Fuel Barrels/Year</th>\n",
       "      <th>City MPG</th>\n",
       "      <th>Highway MPG</th>\n",
       "      <th>Combined MPG</th>\n",
       "      <th>CO2 Emission Grams/Mile</th>\n",
       "      <th>Fuel Cost/Year</th>\n",
       "    </tr>\n",
       "  </thead>\n",
       "  <tbody>\n",
       "    <tr>\n",
       "      <th>0</th>\n",
       "      <td>AM General</td>\n",
       "      <td>DJ Po Vehicle 2WD</td>\n",
       "      <td>1984</td>\n",
       "      <td>2.5</td>\n",
       "      <td>4.0</td>\n",
       "      <td>Automatic 3-spd</td>\n",
       "      <td>2-Wheel Drive</td>\n",
       "      <td>Special Purpose Vehicle 2WD</td>\n",
       "      <td>Regular</td>\n",
       "      <td>19.388824</td>\n",
       "      <td>18</td>\n",
       "      <td>17</td>\n",
       "      <td>17</td>\n",
       "      <td>522.764706</td>\n",
       "      <td>1950</td>\n",
       "    </tr>\n",
       "    <tr>\n",
       "      <th>1</th>\n",
       "      <td>AM General</td>\n",
       "      <td>FJ8c Post Office</td>\n",
       "      <td>1984</td>\n",
       "      <td>4.2</td>\n",
       "      <td>6.0</td>\n",
       "      <td>Automatic 3-spd</td>\n",
       "      <td>2-Wheel Drive</td>\n",
       "      <td>Special Purpose Vehicle 2WD</td>\n",
       "      <td>Regular</td>\n",
       "      <td>25.354615</td>\n",
       "      <td>13</td>\n",
       "      <td>13</td>\n",
       "      <td>13</td>\n",
       "      <td>683.615385</td>\n",
       "      <td>2550</td>\n",
       "    </tr>\n",
       "    <tr>\n",
       "      <th>2</th>\n",
       "      <td>AM General</td>\n",
       "      <td>Post Office DJ5 2WD</td>\n",
       "      <td>1985</td>\n",
       "      <td>2.5</td>\n",
       "      <td>4.0</td>\n",
       "      <td>Automatic 3-spd</td>\n",
       "      <td>Rear-Wheel Drive</td>\n",
       "      <td>Special Purpose Vehicle 2WD</td>\n",
       "      <td>Regular</td>\n",
       "      <td>20.600625</td>\n",
       "      <td>16</td>\n",
       "      <td>17</td>\n",
       "      <td>16</td>\n",
       "      <td>555.437500</td>\n",
       "      <td>2100</td>\n",
       "    </tr>\n",
       "    <tr>\n",
       "      <th>3</th>\n",
       "      <td>AM General</td>\n",
       "      <td>Post Office DJ8 2WD</td>\n",
       "      <td>1985</td>\n",
       "      <td>4.2</td>\n",
       "      <td>6.0</td>\n",
       "      <td>Automatic 3-spd</td>\n",
       "      <td>Rear-Wheel Drive</td>\n",
       "      <td>Special Purpose Vehicle 2WD</td>\n",
       "      <td>Regular</td>\n",
       "      <td>25.354615</td>\n",
       "      <td>13</td>\n",
       "      <td>13</td>\n",
       "      <td>13</td>\n",
       "      <td>683.615385</td>\n",
       "      <td>2550</td>\n",
       "    </tr>\n",
       "    <tr>\n",
       "      <th>4</th>\n",
       "      <td>ASC Incorporated</td>\n",
       "      <td>GNX</td>\n",
       "      <td>1987</td>\n",
       "      <td>3.8</td>\n",
       "      <td>6.0</td>\n",
       "      <td>Automatic 4-spd</td>\n",
       "      <td>Rear-Wheel Drive</td>\n",
       "      <td>Midsize Cars</td>\n",
       "      <td>Premium</td>\n",
       "      <td>20.600625</td>\n",
       "      <td>14</td>\n",
       "      <td>21</td>\n",
       "      <td>16</td>\n",
       "      <td>555.437500</td>\n",
       "      <td>2550</td>\n",
       "    </tr>\n",
       "    <tr>\n",
       "      <th>5</th>\n",
       "      <td>Acura</td>\n",
       "      <td>2.2CL/3.0CL</td>\n",
       "      <td>1997</td>\n",
       "      <td>2.2</td>\n",
       "      <td>4.0</td>\n",
       "      <td>Automatic 4-spd</td>\n",
       "      <td>Front-Wheel Drive</td>\n",
       "      <td>Subcompact Cars</td>\n",
       "      <td>Regular</td>\n",
       "      <td>14.982273</td>\n",
       "      <td>20</td>\n",
       "      <td>26</td>\n",
       "      <td>22</td>\n",
       "      <td>403.954545</td>\n",
       "      <td>1500</td>\n",
       "    </tr>\n",
       "    <tr>\n",
       "      <th>6</th>\n",
       "      <td>Acura</td>\n",
       "      <td>2.2CL/3.0CL</td>\n",
       "      <td>1997</td>\n",
       "      <td>2.2</td>\n",
       "      <td>4.0</td>\n",
       "      <td>Manual 5-spd</td>\n",
       "      <td>Front-Wheel Drive</td>\n",
       "      <td>Subcompact Cars</td>\n",
       "      <td>Regular</td>\n",
       "      <td>13.733750</td>\n",
       "      <td>22</td>\n",
       "      <td>28</td>\n",
       "      <td>24</td>\n",
       "      <td>370.291667</td>\n",
       "      <td>1400</td>\n",
       "    </tr>\n",
       "    <tr>\n",
       "      <th>7</th>\n",
       "      <td>Acura</td>\n",
       "      <td>2.2CL/3.0CL</td>\n",
       "      <td>1997</td>\n",
       "      <td>3.0</td>\n",
       "      <td>6.0</td>\n",
       "      <td>Automatic 4-spd</td>\n",
       "      <td>Front-Wheel Drive</td>\n",
       "      <td>Subcompact Cars</td>\n",
       "      <td>Regular</td>\n",
       "      <td>16.480500</td>\n",
       "      <td>18</td>\n",
       "      <td>26</td>\n",
       "      <td>20</td>\n",
       "      <td>444.350000</td>\n",
       "      <td>1650</td>\n",
       "    </tr>\n",
       "    <tr>\n",
       "      <th>8</th>\n",
       "      <td>Acura</td>\n",
       "      <td>2.3CL/3.0CL</td>\n",
       "      <td>1998</td>\n",
       "      <td>2.3</td>\n",
       "      <td>4.0</td>\n",
       "      <td>Automatic 4-spd</td>\n",
       "      <td>Front-Wheel Drive</td>\n",
       "      <td>Subcompact Cars</td>\n",
       "      <td>Regular</td>\n",
       "      <td>14.982273</td>\n",
       "      <td>19</td>\n",
       "      <td>27</td>\n",
       "      <td>22</td>\n",
       "      <td>403.954545</td>\n",
       "      <td>1500</td>\n",
       "    </tr>\n",
       "    <tr>\n",
       "      <th>9</th>\n",
       "      <td>Acura</td>\n",
       "      <td>2.3CL/3.0CL</td>\n",
       "      <td>1998</td>\n",
       "      <td>2.3</td>\n",
       "      <td>4.0</td>\n",
       "      <td>Manual 5-spd</td>\n",
       "      <td>Front-Wheel Drive</td>\n",
       "      <td>Subcompact Cars</td>\n",
       "      <td>Regular</td>\n",
       "      <td>13.733750</td>\n",
       "      <td>21</td>\n",
       "      <td>29</td>\n",
       "      <td>24</td>\n",
       "      <td>370.291667</td>\n",
       "      <td>1400</td>\n",
       "    </tr>\n",
       "  </tbody>\n",
       "</table>\n",
       "</div>"
      ],
      "text/plain": [
       "               Make                Model  Year  Engine Displacement  \\\n",
       "0        AM General    DJ Po Vehicle 2WD  1984                  2.5   \n",
       "1        AM General     FJ8c Post Office  1984                  4.2   \n",
       "2        AM General  Post Office DJ5 2WD  1985                  2.5   \n",
       "3        AM General  Post Office DJ8 2WD  1985                  4.2   \n",
       "4  ASC Incorporated                  GNX  1987                  3.8   \n",
       "5             Acura          2.2CL/3.0CL  1997                  2.2   \n",
       "6             Acura          2.2CL/3.0CL  1997                  2.2   \n",
       "7             Acura          2.2CL/3.0CL  1997                  3.0   \n",
       "8             Acura          2.3CL/3.0CL  1998                  2.3   \n",
       "9             Acura          2.3CL/3.0CL  1998                  2.3   \n",
       "\n",
       "   Cylinders     Transmission         Drivetrain                Vehicle Class  \\\n",
       "0        4.0  Automatic 3-spd      2-Wheel Drive  Special Purpose Vehicle 2WD   \n",
       "1        6.0  Automatic 3-spd      2-Wheel Drive  Special Purpose Vehicle 2WD   \n",
       "2        4.0  Automatic 3-spd   Rear-Wheel Drive  Special Purpose Vehicle 2WD   \n",
       "3        6.0  Automatic 3-spd   Rear-Wheel Drive  Special Purpose Vehicle 2WD   \n",
       "4        6.0  Automatic 4-spd   Rear-Wheel Drive                 Midsize Cars   \n",
       "5        4.0  Automatic 4-spd  Front-Wheel Drive              Subcompact Cars   \n",
       "6        4.0     Manual 5-spd  Front-Wheel Drive              Subcompact Cars   \n",
       "7        6.0  Automatic 4-spd  Front-Wheel Drive              Subcompact Cars   \n",
       "8        4.0  Automatic 4-spd  Front-Wheel Drive              Subcompact Cars   \n",
       "9        4.0     Manual 5-spd  Front-Wheel Drive              Subcompact Cars   \n",
       "\n",
       "  Fuel Type  Fuel Barrels/Year  City MPG  Highway MPG  Combined MPG  \\\n",
       "0   Regular          19.388824        18           17            17   \n",
       "1   Regular          25.354615        13           13            13   \n",
       "2   Regular          20.600625        16           17            16   \n",
       "3   Regular          25.354615        13           13            13   \n",
       "4   Premium          20.600625        14           21            16   \n",
       "5   Regular          14.982273        20           26            22   \n",
       "6   Regular          13.733750        22           28            24   \n",
       "7   Regular          16.480500        18           26            20   \n",
       "8   Regular          14.982273        19           27            22   \n",
       "9   Regular          13.733750        21           29            24   \n",
       "\n",
       "   CO2 Emission Grams/Mile  Fuel Cost/Year  \n",
       "0               522.764706            1950  \n",
       "1               683.615385            2550  \n",
       "2               555.437500            2100  \n",
       "3               683.615385            2550  \n",
       "4               555.437500            2550  \n",
       "5               403.954545            1500  \n",
       "6               370.291667            1400  \n",
       "7               444.350000            1650  \n",
       "8               403.954545            1500  \n",
       "9               370.291667            1400  "
      ]
     },
     "execution_count": 3,
     "metadata": {},
     "output_type": "execute_result"
    }
   ],
   "source": [
    "df.head(10)"
   ]
  },
  {
   "cell_type": "code",
   "execution_count": 4,
   "id": "5ed4f789",
   "metadata": {},
   "outputs": [
    {
     "name": "stdout",
     "output_type": "stream",
     "text": [
      "<class 'pandas.core.frame.DataFrame'>\n",
      "RangeIndex: 35952 entries, 0 to 35951\n",
      "Data columns (total 15 columns):\n",
      " #   Column                   Non-Null Count  Dtype  \n",
      "---  ------                   --------------  -----  \n",
      " 0   Make                     35952 non-null  object \n",
      " 1   Model                    35952 non-null  object \n",
      " 2   Year                     35952 non-null  int64  \n",
      " 3   Engine Displacement      35952 non-null  float64\n",
      " 4   Cylinders                35952 non-null  float64\n",
      " 5   Transmission             35952 non-null  object \n",
      " 6   Drivetrain               35952 non-null  object \n",
      " 7   Vehicle Class            35952 non-null  object \n",
      " 8   Fuel Type                35952 non-null  object \n",
      " 9   Fuel Barrels/Year        35952 non-null  float64\n",
      " 10  City MPG                 35952 non-null  int64  \n",
      " 11  Highway MPG              35952 non-null  int64  \n",
      " 12  Combined MPG             35952 non-null  int64  \n",
      " 13  CO2 Emission Grams/Mile  35952 non-null  float64\n",
      " 14  Fuel Cost/Year           35952 non-null  int64  \n",
      "dtypes: float64(4), int64(5), object(6)\n",
      "memory usage: 4.1+ MB\n"
     ]
    }
   ],
   "source": [
    "df.info()"
   ]
  },
  {
   "cell_type": "code",
   "execution_count": 5,
   "id": "e9044c4a",
   "metadata": {},
   "outputs": [
    {
     "data": {
      "text/plain": [
       "array(['AM General', 'ASC Incorporated', 'Acura', 'Alfa Romeo',\n",
       "       'American Motors Corporation', 'Aston Martin', 'Audi',\n",
       "       'Aurora Cars Ltd', 'Autokraft Limited', 'BMW', 'BMW Alpina',\n",
       "       'Bentley', 'Bertone', 'Bill Dovell Motor Car Company',\n",
       "       'Bitter Gmbh and Co. Kg', 'Bugatti', 'Buick', 'CCC Engineering',\n",
       "       'CX Automotive', 'Cadillac', 'Chevrolet', 'Chrysler',\n",
       "       'Consulier Industries Inc', 'Dabryan Coach Builders Inc', 'Dacia',\n",
       "       'Daewoo', 'Daihatsu', 'Dodge', 'E. P. Dutton, Inc.', 'Eagle',\n",
       "       'Environmental Rsch and Devp Corp', 'Evans Automobiles',\n",
       "       'Excalibur Autos', 'Federal Coach', 'Ferrari', 'Fiat', 'Fisker',\n",
       "       'Ford', 'GMC', 'General Motors', 'Genesis', 'Geo', 'Goldacre',\n",
       "       'Grumman Allied Industries', 'Grumman Olson', 'Honda', 'Hummer',\n",
       "       'Hyundai', 'Import Foreign Auto Sales Inc',\n",
       "       'Import Trade Services', 'Infiniti', 'Isis Imports Ltd', 'Isuzu',\n",
       "       'J.K. Motors', 'JBA Motorcars, Inc.', 'Jaguar', 'Jeep', 'Kia',\n",
       "       'Laforza Automobile Inc', 'Lambda Control Systems', 'Lamborghini',\n",
       "       'Land Rover', 'Lexus', 'Lincoln', 'London Coach Co Inc',\n",
       "       'London Taxi', 'Lotus', 'MINI', 'Mahindra', 'Maserati', 'Maybach',\n",
       "       'Mazda', 'McLaren Automotive', 'Mcevoy Motors', 'Mercedes-Benz',\n",
       "       'Mercury', 'Merkur', 'Mitsubishi', 'Mobility Ventures LLC',\n",
       "       'Morgan', 'Nissan', 'Oldsmobile', 'PAS Inc - GMC', 'PAS, Inc',\n",
       "       'Pagani', 'Panos', 'Panoz Auto-Development',\n",
       "       'Panther Car Company Limited', 'Peugeot', 'Pininfarina',\n",
       "       'Plymouth', 'Pontiac', 'Porsche', 'Quantum Technologies', 'Qvale',\n",
       "       'Ram', 'Red Shift Ltd.', 'Renault', 'Rolls-Royce',\n",
       "       'Roush Performance', 'Ruf Automobile Gmbh',\n",
       "       'S and S Coach Company  E.p. Dutton', 'SRT', 'Saab', 'Saleen',\n",
       "       'Saleen Performance', 'Saturn', 'Scion', 'Shelby', 'Spyker',\n",
       "       'Sterling', 'Subaru', 'Superior Coaches Div E.p. Dutton', 'Suzuki',\n",
       "       'TVR Engineering Ltd', 'Tecstar, LP', 'Texas Coach Company',\n",
       "       'Toyota', 'VPG', 'Vector', 'Vixen Motor Company',\n",
       "       'Volga Associated Automobile', 'Volkswagen', 'Volvo',\n",
       "       'Wallace Environmental', 'Yugo', 'smart'], dtype=object)"
      ]
     },
     "execution_count": 5,
     "metadata": {},
     "output_type": "execute_result"
    }
   ],
   "source": [
    "df['Make'].unique()"
   ]
  },
  {
   "cell_type": "markdown",
   "id": "dafeaca1",
   "metadata": {},
   "source": [
    "## Q1. What is the average CO2 emmission per gram/mile of all Volkswagen cars?\n",
    "Format: A floating number"
   ]
  },
  {
   "cell_type": "code",
   "execution_count": 6,
   "id": "43f87635",
   "metadata": {},
   "outputs": [],
   "source": [
    "answer_dict[\"Q1\"]= df.loc[df['Make'] == 'Volkswagen','CO2 Emission Grams/Mile'].mean()"
   ]
  },
  {
   "cell_type": "code",
   "execution_count": 7,
   "id": "42c43303",
   "metadata": {},
   "outputs": [
    {
     "data": {
      "text/plain": [
       "392.7417210857633"
      ]
     },
     "execution_count": 7,
     "metadata": {},
     "output_type": "execute_result"
    }
   ],
   "source": [
    "answer_dict[\"Q1\"]"
   ]
  },
  {
   "cell_type": "code",
   "execution_count": 8,
   "id": "aa02825a",
   "metadata": {},
   "outputs": [
    {
     "data": {
      "text/plain": [
       "{'Q1': 392.7417210857633,\n",
       " 'Q2': None,\n",
       " 'Q3': None,\n",
       " 'Q4': None,\n",
       " 'Q5': None,\n",
       " 'Q6': None,\n",
       " 'Q7': None}"
      ]
     },
     "execution_count": 8,
     "metadata": {},
     "output_type": "execute_result"
    }
   ],
   "source": [
    "answer_dict"
   ]
  },
  {
   "cell_type": "markdown",
   "id": "f9c12630",
   "metadata": {},
   "source": [
    "## Q2. Calculate the top 5 brands(Make) with the most unique models, order your answer in descending order with respect to the number of unique models.\n",
    "NOTE: Consider only the name of the models and their brand, that is use only the Make and Model columns\n",
    "\n",
    "Format: A 5X2 list with each row being the name of the brand followed by the unique number of models, in descending order."
   ]
  },
  {
   "cell_type": "code",
   "execution_count": 9,
   "id": "195b3796",
   "metadata": {},
   "outputs": [],
   "source": [
    "answer_dict[\"Q2\"]=df.groupby(['Make']).Model.nunique().sort_values(ascending=False).head(5).reset_index().values.tolist()"
   ]
  },
  {
   "cell_type": "code",
   "execution_count": 10,
   "id": "cc74e136",
   "metadata": {},
   "outputs": [
    {
     "data": {
      "text/plain": [
       "[['Mercedes-Benz', 333],\n",
       " ['BMW', 284],\n",
       " ['Chevrolet', 253],\n",
       " ['Ford', 185],\n",
       " ['GMC', 163]]"
      ]
     },
     "execution_count": 10,
     "metadata": {},
     "output_type": "execute_result"
    }
   ],
   "source": [
    "answer_dict[\"Q2\"]"
   ]
  },
  {
   "cell_type": "code",
   "execution_count": 11,
   "id": "c2743a0d",
   "metadata": {},
   "outputs": [
    {
     "data": {
      "text/plain": [
       "{'Q1': 392.7417210857633,\n",
       " 'Q2': [['Mercedes-Benz', 333],\n",
       "  ['BMW', 284],\n",
       "  ['Chevrolet', 253],\n",
       "  ['Ford', 185],\n",
       "  ['GMC', 163]],\n",
       " 'Q3': None,\n",
       " 'Q4': None,\n",
       " 'Q5': None,\n",
       " 'Q6': None,\n",
       " 'Q7': None}"
      ]
     },
     "execution_count": 11,
     "metadata": {},
     "output_type": "execute_result"
    }
   ],
   "source": [
    "answer_dict"
   ]
  },
  {
   "cell_type": "markdown",
   "id": "0a075529",
   "metadata": {},
   "source": [
    "## Q3. What are all the different types of fuels in the dataset sorted alphabetically?\n",
    "Format: A list of strings sorted alphabetically."
   ]
  },
  {
   "cell_type": "code",
   "execution_count": 12,
   "id": "5874f82b",
   "metadata": {},
   "outputs": [],
   "source": [
    "answer_dict[\"Q3\"]=sorted(df['Fuel Type'].unique())"
   ]
  },
  {
   "cell_type": "code",
   "execution_count": 13,
   "id": "7d52246b",
   "metadata": {},
   "outputs": [
    {
     "data": {
      "text/plain": [
       "['CNG',\n",
       " 'Diesel',\n",
       " 'Gasoline or E85',\n",
       " 'Gasoline or natural gas',\n",
       " 'Gasoline or propane',\n",
       " 'Midgrade',\n",
       " 'Premium',\n",
       " 'Premium Gas or Electricity',\n",
       " 'Premium and Electricity',\n",
       " 'Premium or E85',\n",
       " 'Regular',\n",
       " 'Regular Gas and Electricity',\n",
       " 'Regular Gas or Electricity']"
      ]
     },
     "execution_count": 13,
     "metadata": {},
     "output_type": "execute_result"
    }
   ],
   "source": [
    "answer_dict[\"Q3\"]"
   ]
  },
  {
   "cell_type": "code",
   "execution_count": 14,
   "id": "7bfd8fc2",
   "metadata": {},
   "outputs": [
    {
     "data": {
      "text/plain": [
       "{'Q1': 392.7417210857633,\n",
       " 'Q2': [['Mercedes-Benz', 333],\n",
       "  ['BMW', 284],\n",
       "  ['Chevrolet', 253],\n",
       "  ['Ford', 185],\n",
       "  ['GMC', 163]],\n",
       " 'Q3': ['CNG',\n",
       "  'Diesel',\n",
       "  'Gasoline or E85',\n",
       "  'Gasoline or natural gas',\n",
       "  'Gasoline or propane',\n",
       "  'Midgrade',\n",
       "  'Premium',\n",
       "  'Premium Gas or Electricity',\n",
       "  'Premium and Electricity',\n",
       "  'Premium or E85',\n",
       "  'Regular',\n",
       "  'Regular Gas and Electricity',\n",
       "  'Regular Gas or Electricity'],\n",
       " 'Q4': None,\n",
       " 'Q5': None,\n",
       " 'Q6': None,\n",
       " 'Q7': None}"
      ]
     },
     "execution_count": 14,
     "metadata": {},
     "output_type": "execute_result"
    }
   ],
   "source": [
    "answer_dict"
   ]
  },
  {
   "cell_type": "markdown",
   "id": "0e1d2817",
   "metadata": {},
   "source": [
    "## Q4. Show the 9 Toyota cars with the most extreme Fuel Barrels/Year in abosolute terms within all Toyota cars. Show the car Model, Year and their Fuel Barrels/Year in standard deviation units(Z-score) sorted in descending order by their Fuel Barrels/Year in absolute terms first and then by year in descending order BUT without modifying the negative values\n",
    "Format: A 9X3 list with each row containing the Model, Year and Fuel Barrels/Year in standard deviations units"
   ]
  },
  {
   "cell_type": "code",
   "execution_count": 15,
   "id": "65632302",
   "metadata": {},
   "outputs": [],
   "source": [
    "dfToyota = df[df['Make'] == 'Toyota'][['Model', 'Year', 'Fuel Barrels/Year']]\n",
    "\n",
    "answer_dict[\"Q4\"] = dfToyota.apply(lambda x:((x-x.mean())/x.std()) if x.name == 'Fuel Barrels/Year' else x)\\\n",
    "                    .sort_values(['Fuel Barrels/Year', 'Year'], ascending = [False, False], key=abs).head(9).values.tolist()"
   ]
  },
  {
   "cell_type": "code",
   "execution_count": 16,
   "id": "203b5213",
   "metadata": {},
   "outputs": [
    {
     "data": {
      "text/plain": [
       "[['Cab/Chassis 2WD', 1993, 4.1122558654247925],\n",
       " ['Cab/Chassis 2WD', 1992, 4.1122558654247925],\n",
       " ['Cab/Chassis 2WD', 1991, 4.1122558654247925],\n",
       " ['Cab/Chassis 2WD', 1990, 4.1122558654247925],\n",
       " ['Cab/Chassis 2WD', 1989, 4.1122558654247925],\n",
       " ['Camry CNG', 1999, -3.932541757118491],\n",
       " ['Camry CNG', 2001, -3.9316423754756538],\n",
       " ['Camry CNG', 2000, -3.9316423754756538],\n",
       " ['Cab/Chassis 2WD', 1993, 3.3791118637260937]]"
      ]
     },
     "execution_count": 16,
     "metadata": {},
     "output_type": "execute_result"
    }
   ],
   "source": [
    "answer_dict[\"Q4\"]"
   ]
  },
  {
   "cell_type": "code",
   "execution_count": 17,
   "id": "391d5ac7",
   "metadata": {},
   "outputs": [
    {
     "data": {
      "text/plain": [
       "{'Q1': 392.7417210857633,\n",
       " 'Q2': [['Mercedes-Benz', 333],\n",
       "  ['BMW', 284],\n",
       "  ['Chevrolet', 253],\n",
       "  ['Ford', 185],\n",
       "  ['GMC', 163]],\n",
       " 'Q3': ['CNG',\n",
       "  'Diesel',\n",
       "  'Gasoline or E85',\n",
       "  'Gasoline or natural gas',\n",
       "  'Gasoline or propane',\n",
       "  'Midgrade',\n",
       "  'Premium',\n",
       "  'Premium Gas or Electricity',\n",
       "  'Premium and Electricity',\n",
       "  'Premium or E85',\n",
       "  'Regular',\n",
       "  'Regular Gas and Electricity',\n",
       "  'Regular Gas or Electricity'],\n",
       " 'Q4': [['Cab/Chassis 2WD', 1993, 4.1122558654247925],\n",
       "  ['Cab/Chassis 2WD', 1992, 4.1122558654247925],\n",
       "  ['Cab/Chassis 2WD', 1991, 4.1122558654247925],\n",
       "  ['Cab/Chassis 2WD', 1990, 4.1122558654247925],\n",
       "  ['Cab/Chassis 2WD', 1989, 4.1122558654247925],\n",
       "  ['Camry CNG', 1999, -3.932541757118491],\n",
       "  ['Camry CNG', 2001, -3.9316423754756538],\n",
       "  ['Camry CNG', 2000, -3.9316423754756538],\n",
       "  ['Cab/Chassis 2WD', 1993, 3.3791118637260937]],\n",
       " 'Q5': None,\n",
       " 'Q6': None,\n",
       " 'Q7': None}"
      ]
     },
     "execution_count": 17,
     "metadata": {},
     "output_type": "execute_result"
    }
   ],
   "source": [
    "answer_dict"
   ]
  },
  {
   "cell_type": "markdown",
   "id": "031cee87",
   "metadata": {},
   "source": [
    "## Q5. Calculate the changes in Combined MPG with their previous model of all Golf cars with Manual 5-spd transmission and Regular Fuel Type. Show the Year, the Combined MPG and the calculated difference of MPG in a list sorted by Year in ascending order.\n",
    "\n",
    "Format: A 19X3 list, with the Year and Combined MPG being of type integer and only the calculated difference is of type float\n",
    "\n",
    "Note: The value for the first model should be 0. It does not matter that there are gaps in the years, calculate with respect the previous model."
   ]
  },
  {
   "cell_type": "code",
   "execution_count": 18,
   "id": "aa26f81c",
   "metadata": {},
   "outputs": [],
   "source": [
    "dfGolf = df[(df['Model']=='Golf') & (df['Transmission']=='Manual 5-spd') & (df['Fuel Type']=='Regular')][['Year','Combined MPG',]]\n",
    "\n",
    "answer_dict[\"Q5\"] = [[int(x) if x in Q5list[:2] else Q5list[2] for x in Q5list] for Q5list in \\\n",
    "                    dfGolf.assign(Diff = dfGolf['Combined MPG'].diff()).fillna(0).values.tolist()]"
   ]
  },
  {
   "cell_type": "code",
   "execution_count": 19,
   "id": "467ed336",
   "metadata": {},
   "outputs": [
    {
     "data": {
      "text/plain": [
       "[[1986, 26, 0.0],\n",
       " [1987, 26, 0.0],\n",
       " [1988, 25, -1.0],\n",
       " [1989, 25, 0.0],\n",
       " [1999, 24, -1.0],\n",
       " [2000, 24, 0.0],\n",
       " [2001, 24, 0.0],\n",
       " [2002, 24, 0.0],\n",
       " [2003, 24, 0.0],\n",
       " [2004, 24, 0.0],\n",
       " [2005, 24, 0.0],\n",
       " [2006, 24, 0.0],\n",
       " [2010, 25, 1.0],\n",
       " [2011, 26, 1.0],\n",
       " [2012, 26, 0.0],\n",
       " [2013, 26, 0.0],\n",
       " [2015, 30, 4.0],\n",
       " [2016, 30, 0.0],\n",
       " [2017, 29, -1.0]]"
      ]
     },
     "execution_count": 19,
     "metadata": {},
     "output_type": "execute_result"
    }
   ],
   "source": [
    "answer_dict[\"Q5\"]"
   ]
  },
  {
   "cell_type": "code",
   "execution_count": 20,
   "id": "cd0c3666",
   "metadata": {},
   "outputs": [
    {
     "data": {
      "text/plain": [
       "{'Q1': 392.7417210857633,\n",
       " 'Q2': [['Mercedes-Benz', 333],\n",
       "  ['BMW', 284],\n",
       "  ['Chevrolet', 253],\n",
       "  ['Ford', 185],\n",
       "  ['GMC', 163]],\n",
       " 'Q3': ['CNG',\n",
       "  'Diesel',\n",
       "  'Gasoline or E85',\n",
       "  'Gasoline or natural gas',\n",
       "  'Gasoline or propane',\n",
       "  'Midgrade',\n",
       "  'Premium',\n",
       "  'Premium Gas or Electricity',\n",
       "  'Premium and Electricity',\n",
       "  'Premium or E85',\n",
       "  'Regular',\n",
       "  'Regular Gas and Electricity',\n",
       "  'Regular Gas or Electricity'],\n",
       " 'Q4': [['Cab/Chassis 2WD', 1993, 4.1122558654247925],\n",
       "  ['Cab/Chassis 2WD', 1992, 4.1122558654247925],\n",
       "  ['Cab/Chassis 2WD', 1991, 4.1122558654247925],\n",
       "  ['Cab/Chassis 2WD', 1990, 4.1122558654247925],\n",
       "  ['Cab/Chassis 2WD', 1989, 4.1122558654247925],\n",
       "  ['Camry CNG', 1999, -3.932541757118491],\n",
       "  ['Camry CNG', 2001, -3.9316423754756538],\n",
       "  ['Camry CNG', 2000, -3.9316423754756538],\n",
       "  ['Cab/Chassis 2WD', 1993, 3.3791118637260937]],\n",
       " 'Q5': [[1986, 26, 0.0],\n",
       "  [1987, 26, 0.0],\n",
       "  [1988, 25, -1.0],\n",
       "  [1989, 25, 0.0],\n",
       "  [1999, 24, -1.0],\n",
       "  [2000, 24, 0.0],\n",
       "  [2001, 24, 0.0],\n",
       "  [2002, 24, 0.0],\n",
       "  [2003, 24, 0.0],\n",
       "  [2004, 24, 0.0],\n",
       "  [2005, 24, 0.0],\n",
       "  [2006, 24, 0.0],\n",
       "  [2010, 25, 1.0],\n",
       "  [2011, 26, 1.0],\n",
       "  [2012, 26, 0.0],\n",
       "  [2013, 26, 0.0],\n",
       "  [2015, 30, 4.0],\n",
       "  [2016, 30, 0.0],\n",
       "  [2017, 29, -1.0]],\n",
       " 'Q6': None,\n",
       " 'Q7': None}"
      ]
     },
     "execution_count": 20,
     "metadata": {},
     "output_type": "execute_result"
    }
   ],
   "source": [
    "answer_dict"
   ]
  },
  {
   "cell_type": "markdown",
   "id": "28003bc3",
   "metadata": {},
   "source": [
    "## Q6. What are the top 5 lowest CO2 Emission Grams/Mile emmisions of cars for each of the following brands: Toyota, Ford, Volkswagen, Nissan, Honda\n",
    "Format: A 5X6 list with the first element of each row being the Make of the cars and the following five values being floats sorted in ascending order. The Makes should appear in order listed in the question starting with Ford and ending with Volkswagen"
   ]
  },
  {
   "cell_type": "code",
   "execution_count": 21,
   "id": "a261da45",
   "metadata": {},
   "outputs": [],
   "source": [
    "dfBrands = df[df['Make'].isin(['Toyota', 'Ford', 'Volkswagen', 'Nissan', 'Honda'])]\n",
    "\n",
    "answer_dict[\"Q6\"] = dfBrands[['Make','CO2 Emission Grams/Mile']].sort_values(['Make', 'CO2 Emission Grams/Mile'])\\\n",
    "                    .groupby('Make').head(5).assign(Emission = [num for num in range(5) for num in range(5)])\\\n",
    "                    .pivot(index='Make', columns='Emission', values='CO2 Emission Grams/Mile')\\\n",
    "                    .reindex(['Toyota', 'Ford', 'Volkswagen', 'Nissan', 'Honda']).reset_index().values.tolist()\n"
   ]
  },
  {
   "cell_type": "code",
   "execution_count": 22,
   "id": "08b1439e",
   "metadata": {},
   "outputs": [
    {
     "data": {
      "text/plain": [
       "[['Toyota', 133.0, 133.0, 133.0, 133.0, 158.0],\n",
       " ['Ford', 112.0, 129.0, 129.0, 129.0, 129.0],\n",
       " ['Volkswagen', 200.0, 200.0, 200.0, 200.0, 261.025641025641],\n",
       " ['Nissan', 249.0, 254.0, 254.5, 254.5, 254.5],\n",
       " ['Honda',\n",
       "  130.0,\n",
       "  167.67924528301887,\n",
       "  167.67924528301887,\n",
       "  167.67924528301887,\n",
       "  167.67924528301887]]"
      ]
     },
     "execution_count": 22,
     "metadata": {},
     "output_type": "execute_result"
    }
   ],
   "source": [
    "answer_dict[\"Q6\"]"
   ]
  },
  {
   "cell_type": "code",
   "execution_count": 23,
   "id": "9c527705",
   "metadata": {},
   "outputs": [
    {
     "data": {
      "text/plain": [
       "{'Q1': 392.7417210857633,\n",
       " 'Q2': [['Mercedes-Benz', 333],\n",
       "  ['BMW', 284],\n",
       "  ['Chevrolet', 253],\n",
       "  ['Ford', 185],\n",
       "  ['GMC', 163]],\n",
       " 'Q3': ['CNG',\n",
       "  'Diesel',\n",
       "  'Gasoline or E85',\n",
       "  'Gasoline or natural gas',\n",
       "  'Gasoline or propane',\n",
       "  'Midgrade',\n",
       "  'Premium',\n",
       "  'Premium Gas or Electricity',\n",
       "  'Premium and Electricity',\n",
       "  'Premium or E85',\n",
       "  'Regular',\n",
       "  'Regular Gas and Electricity',\n",
       "  'Regular Gas or Electricity'],\n",
       " 'Q4': [['Cab/Chassis 2WD', 1993, 4.1122558654247925],\n",
       "  ['Cab/Chassis 2WD', 1992, 4.1122558654247925],\n",
       "  ['Cab/Chassis 2WD', 1991, 4.1122558654247925],\n",
       "  ['Cab/Chassis 2WD', 1990, 4.1122558654247925],\n",
       "  ['Cab/Chassis 2WD', 1989, 4.1122558654247925],\n",
       "  ['Camry CNG', 1999, -3.932541757118491],\n",
       "  ['Camry CNG', 2001, -3.9316423754756538],\n",
       "  ['Camry CNG', 2000, -3.9316423754756538],\n",
       "  ['Cab/Chassis 2WD', 1993, 3.3791118637260937]],\n",
       " 'Q5': [[1986, 26, 0.0],\n",
       "  [1987, 26, 0.0],\n",
       "  [1988, 25, -1.0],\n",
       "  [1989, 25, 0.0],\n",
       "  [1999, 24, -1.0],\n",
       "  [2000, 24, 0.0],\n",
       "  [2001, 24, 0.0],\n",
       "  [2002, 24, 0.0],\n",
       "  [2003, 24, 0.0],\n",
       "  [2004, 24, 0.0],\n",
       "  [2005, 24, 0.0],\n",
       "  [2006, 24, 0.0],\n",
       "  [2010, 25, 1.0],\n",
       "  [2011, 26, 1.0],\n",
       "  [2012, 26, 0.0],\n",
       "  [2013, 26, 0.0],\n",
       "  [2015, 30, 4.0],\n",
       "  [2016, 30, 0.0],\n",
       "  [2017, 29, -1.0]],\n",
       " 'Q6': [['Toyota', 133.0, 133.0, 133.0, 133.0, 158.0],\n",
       "  ['Ford', 112.0, 129.0, 129.0, 129.0, 129.0],\n",
       "  ['Volkswagen', 200.0, 200.0, 200.0, 200.0, 261.025641025641],\n",
       "  ['Nissan', 249.0, 254.0, 254.5, 254.5, 254.5],\n",
       "  ['Honda',\n",
       "   130.0,\n",
       "   167.67924528301887,\n",
       "   167.67924528301887,\n",
       "   167.67924528301887,\n",
       "   167.67924528301887]],\n",
       " 'Q7': None}"
      ]
     },
     "execution_count": 23,
     "metadata": {},
     "output_type": "execute_result"
    }
   ],
   "source": [
    "answer_dict"
   ]
  },
  {
   "cell_type": "markdown",
   "id": "806f585b",
   "metadata": {},
   "source": [
    "## Q7. Form 7 groups of 5 years to calculated the median Combined MPG of each group. The first group is from 1984 to 1988, the second from 1989 to 1993 and so on. The last group will have years not appearing in the dataset.\n",
    "\n",
    "Note: The groups ranges are inclusive on both sides, the first group starts with 1984 and cars from 1984 are included in it.\n",
    "\n",
    "Format : A 7X2 list with the first element of each row being a tuple of two integers being the lower and uppper range of the year groups and the esecond element being the median Combined MPG of that group, a float number."
   ]
  },
  {
   "cell_type": "code",
   "execution_count": 24,
   "id": "60364e0e",
   "metadata": {},
   "outputs": [],
   "source": [
    "answer_dict[\"Q7\"] = [[eval(x) if x == Q7list[0] else Q7list[1] for x in Q7list] for Q7list in df.groupby(pd.cut(df[\"Year\"],\\\n",
    "                    bins=[1983, 1988, 1993, 1998, 2003, 2008, 2013, 2018],\\\n",
    "                    labels=['(1984, 1988)', '(1989, 1993)', '(1994, 1998)', '(1999, 2003)', '(2004, 2008)', '(2009, 2013)', '(2014, 2018)']))\\\n",
    "                    ['Combined MPG'].median().astype('float').reset_index().values.tolist()]"
   ]
  },
  {
   "cell_type": "code",
   "execution_count": 25,
   "id": "f7aa14ee",
   "metadata": {},
   "outputs": [
    {
     "data": {
      "text/plain": [
       "[[(1984, 1988), 19.0],\n",
       " [(1989, 1993), 18.0],\n",
       " [(1994, 1998), 19.0],\n",
       " [(1999, 2003), 19.0],\n",
       " [(2004, 2008), 19.0],\n",
       " [(2009, 2013), 21.0],\n",
       " [(2014, 2018), 22.0]]"
      ]
     },
     "execution_count": 25,
     "metadata": {},
     "output_type": "execute_result"
    }
   ],
   "source": [
    "answer_dict[\"Q7\"]"
   ]
  },
  {
   "cell_type": "code",
   "execution_count": 26,
   "id": "f3477d89",
   "metadata": {},
   "outputs": [
    {
     "data": {
      "text/plain": [
       "{'Q1': 392.7417210857633,\n",
       " 'Q2': [['Mercedes-Benz', 333],\n",
       "  ['BMW', 284],\n",
       "  ['Chevrolet', 253],\n",
       "  ['Ford', 185],\n",
       "  ['GMC', 163]],\n",
       " 'Q3': ['CNG',\n",
       "  'Diesel',\n",
       "  'Gasoline or E85',\n",
       "  'Gasoline or natural gas',\n",
       "  'Gasoline or propane',\n",
       "  'Midgrade',\n",
       "  'Premium',\n",
       "  'Premium Gas or Electricity',\n",
       "  'Premium and Electricity',\n",
       "  'Premium or E85',\n",
       "  'Regular',\n",
       "  'Regular Gas and Electricity',\n",
       "  'Regular Gas or Electricity'],\n",
       " 'Q4': [['Cab/Chassis 2WD', 1993, 4.1122558654247925],\n",
       "  ['Cab/Chassis 2WD', 1992, 4.1122558654247925],\n",
       "  ['Cab/Chassis 2WD', 1991, 4.1122558654247925],\n",
       "  ['Cab/Chassis 2WD', 1990, 4.1122558654247925],\n",
       "  ['Cab/Chassis 2WD', 1989, 4.1122558654247925],\n",
       "  ['Camry CNG', 1999, -3.932541757118491],\n",
       "  ['Camry CNG', 2001, -3.9316423754756538],\n",
       "  ['Camry CNG', 2000, -3.9316423754756538],\n",
       "  ['Cab/Chassis 2WD', 1993, 3.3791118637260937]],\n",
       " 'Q5': [[1986, 26, 0.0],\n",
       "  [1987, 26, 0.0],\n",
       "  [1988, 25, -1.0],\n",
       "  [1989, 25, 0.0],\n",
       "  [1999, 24, -1.0],\n",
       "  [2000, 24, 0.0],\n",
       "  [2001, 24, 0.0],\n",
       "  [2002, 24, 0.0],\n",
       "  [2003, 24, 0.0],\n",
       "  [2004, 24, 0.0],\n",
       "  [2005, 24, 0.0],\n",
       "  [2006, 24, 0.0],\n",
       "  [2010, 25, 1.0],\n",
       "  [2011, 26, 1.0],\n",
       "  [2012, 26, 0.0],\n",
       "  [2013, 26, 0.0],\n",
       "  [2015, 30, 4.0],\n",
       "  [2016, 30, 0.0],\n",
       "  [2017, 29, -1.0]],\n",
       " 'Q6': [['Toyota', 133.0, 133.0, 133.0, 133.0, 158.0],\n",
       "  ['Ford', 112.0, 129.0, 129.0, 129.0, 129.0],\n",
       "  ['Volkswagen', 200.0, 200.0, 200.0, 200.0, 261.025641025641],\n",
       "  ['Nissan', 249.0, 254.0, 254.5, 254.5, 254.5],\n",
       "  ['Honda',\n",
       "   130.0,\n",
       "   167.67924528301887,\n",
       "   167.67924528301887,\n",
       "   167.67924528301887,\n",
       "   167.67924528301887]],\n",
       " 'Q7': [[(1984, 1988), 19.0],\n",
       "  [(1989, 1993), 18.0],\n",
       "  [(1994, 1998), 19.0],\n",
       "  [(1999, 2003), 19.0],\n",
       "  [(2004, 2008), 19.0],\n",
       "  [(2009, 2013), 21.0],\n",
       "  [(2014, 2018), 22.0]]}"
      ]
     },
     "execution_count": 26,
     "metadata": {},
     "output_type": "execute_result"
    }
   ],
   "source": [
    "answer_dict"
   ]
  },
  {
   "cell_type": "markdown",
   "id": "93bc364d",
   "metadata": {},
   "source": [
    "## Testing  answers\n",
    "\n",
    "We provide you some tests to make sure your answer dictionary is in the correct format using unittest.\n",
    "These tests are not meant to be comprehensive, you should review all your answers carefully."
   ]
  },
  {
   "cell_type": "code",
   "execution_count": 27,
   "id": "f96b0545",
   "metadata": {},
   "outputs": [
    {
     "name": "stderr",
     "output_type": "stream",
     "text": [
      "test_Q1 (__main__.TestAnswers) ... ok\n",
      "test_Q2_dim (__main__.TestAnswers) ... ok\n",
      "test_Q2_types (__main__.TestAnswers) ... ok\n",
      "test_Q3_types (__main__.TestAnswers) ... ok\n",
      "test_Q4_dim (__main__.TestAnswers) ... ok\n",
      "test_Q4_types (__main__.TestAnswers) ... ok\n",
      "test_Q5_dim (__main__.TestAnswers) ... ok\n",
      "test_Q5_first_zero (__main__.TestAnswers) ... ok\n",
      "test_Q5_types (__main__.TestAnswers) ... ok\n",
      "test_Q6_check_first_and_last_brand (__main__.TestAnswers) ... ok\n",
      "test_Q6_dim (__main__.TestAnswers) ... ok\n",
      "test_Q7_dim (__main__.TestAnswers) ... ok\n",
      "test_Q7_types (__main__.TestAnswers) ... ok\n",
      "test_answers_types (__main__.TestAnswers) ... ok\n",
      "test_if_dict (__main__.TestAnswers) ... ok\n",
      "test_keys (__main__.TestAnswers) ... ok\n",
      "\n",
      "----------------------------------------------------------------------\n",
      "Ran 16 tests in 0.013s\n",
      "\n",
      "OK\n"
     ]
    },
    {
     "data": {
      "text/plain": [
       "<unittest.main.TestProgram at 0x1d53e9c4220>"
      ]
     },
     "execution_count": 27,
     "metadata": {},
     "output_type": "execute_result"
    }
   ],
   "source": [
    "import unittest\n",
    "\n",
    "class TestAnswers(unittest.TestCase):\n",
    "    def test_if_dict(self):\n",
    "        self.assertIsInstance(answer_dict, dict)\n",
    "\n",
    "    def test_keys(self):\n",
    "        self.assertEqual(list(answer_dict.keys()), ['Q1', 'Q2', 'Q3', 'Q4', 'Q5', 'Q6', 'Q7'])\n",
    "\n",
    "    def test_answers_types(self):\n",
    "        types_values = [type(k) for k in answer_dict.values()]\n",
    "        answer_types = [float, list, list, list, list, list, list]\n",
    "        self.assertEqual(types_values, answer_types)\n",
    "\n",
    "    def test_Q1(self):\n",
    "        self.assertEqual(type(answer_dict['Q1']), float)\n",
    "\n",
    "    def test_Q2_dim(self):\n",
    "        self.assertEqual(np.array(answer_dict['Q2']).shape, (5,2))\n",
    "\n",
    "    def test_Q2_types(self):\n",
    "        dtype1 = type(answer_dict['Q2'][0][0])\n",
    "        dtype2 = type(answer_dict['Q2'][0][1])\n",
    "        self.assertEqual([dtype1, dtype2], [str, int])\n",
    "\n",
    "    def test_Q3_types(self):\n",
    "        q3_types = set([type(item) for item in answer_dict['Q3']])\n",
    "        self.assertEqual(q3_types, {str})\n",
    "\n",
    "    def test_Q4_dim(self):\n",
    "        self.assertEqual(np.array(answer_dict['Q4']).shape, (9,3))\n",
    "\n",
    "    def test_Q4_types(self):\n",
    "        dtype1 = type(answer_dict['Q4'][0][0])\n",
    "        dtype2 = type(answer_dict['Q4'][0][1])\n",
    "        dtype3 = type(answer_dict['Q4'][0][2])\n",
    "        self.assertEqual([dtype1, dtype2, dtype3], [str, int, float])\n",
    "\n",
    "    def test_Q5_dim(self):\n",
    "        self.assertEqual(np.array(answer_dict['Q5']).shape, (19,3))\n",
    "\n",
    "    def test_Q5_types(self):\n",
    "        dtype1 = type(answer_dict['Q5'][0][0])\n",
    "        dtype2 = type(answer_dict['Q5'][0][1])\n",
    "        dtype3 = type(answer_dict['Q5'][0][2])\n",
    "        self.assertEqual([dtype1, dtype2, dtype3], [int, int, float])\n",
    "\n",
    "    def test_Q5_first_zero(self):\n",
    "        self.assertEqual(answer_dict['Q5'][0][2], 0)\n",
    "\n",
    "\n",
    "    def test_Q6_dim(self):\n",
    "        self.assertEqual(np.array(answer_dict['Q6']).shape, (5,6))\n",
    "\n",
    "    def test_Q5_types(self):\n",
    "        dtype1 = type(answer_dict['Q6'][0][0])\n",
    "        dtype2 = type(answer_dict['Q6'][0][1])\n",
    "        dtype3 = type(answer_dict['Q6'][0][2])\n",
    "        dtype4 = type(answer_dict['Q6'][0][3])\n",
    "        dtype5 = type(answer_dict['Q6'][0][4])\n",
    "        dtype6 = type(answer_dict['Q6'][0][5])\n",
    "        self.assertEqual([dtype1, dtype2, dtype3, dtype4, dtype5, dtype6], [str, float, float, float, float, float])\n",
    "\n",
    "    def test_Q6_check_first_and_last_brand(self):\n",
    "        first_brand = answer_dict['Q6'][0][0]\n",
    "        last_brand = answer_dict['Q6'][4][0]\n",
    "\n",
    "        self.assertEqual([first_brand, last_brand], [\"Toyota\", \"Honda\"])\n",
    "\n",
    "    def test_Q7_dim(self):\n",
    "        self.assertEqual(np.array(answer_dict['Q7'], dtype=object).shape, (7,2))\n",
    "\n",
    "    def test_Q7_types(self):\n",
    "        dtype1 = type(answer_dict['Q7'][0][0])\n",
    "        dtype2 = type(answer_dict['Q7'][0][1])\n",
    "        self.assertEqual([dtype1, dtype2], [tuple, float])\n",
    "\n",
    "unittest.main(argv=[''], verbosity=2, exit=False)"
   ]
  },
  {
   "cell_type": "markdown",
   "id": "645cc3fd",
   "metadata": {},
   "source": [
    "## Save your answers\n",
    "\n",
    "\n",
    " First, take a moment to evaluate your answers and make sure you have not missed anything\n",
    "\n",
    " Use the following code to save your answers in pickle format, change the filename using the following format:\n",
    "  \n",
    "  FIRSTNAME_LASTNAME_answers.pkl"
   ]
  },
  {
   "cell_type": "code",
   "execution_count": 28,
   "id": "74fa5817",
   "metadata": {},
   "outputs": [
    {
     "data": {
      "text/plain": [
       "{'Q1': 392.7417210857633,\n",
       " 'Q2': [['Mercedes-Benz', 333],\n",
       "  ['BMW', 284],\n",
       "  ['Chevrolet', 253],\n",
       "  ['Ford', 185],\n",
       "  ['GMC', 163]],\n",
       " 'Q3': ['CNG',\n",
       "  'Diesel',\n",
       "  'Gasoline or E85',\n",
       "  'Gasoline or natural gas',\n",
       "  'Gasoline or propane',\n",
       "  'Midgrade',\n",
       "  'Premium',\n",
       "  'Premium Gas or Electricity',\n",
       "  'Premium and Electricity',\n",
       "  'Premium or E85',\n",
       "  'Regular',\n",
       "  'Regular Gas and Electricity',\n",
       "  'Regular Gas or Electricity'],\n",
       " 'Q4': [['Cab/Chassis 2WD', 1993, 4.1122558654247925],\n",
       "  ['Cab/Chassis 2WD', 1992, 4.1122558654247925],\n",
       "  ['Cab/Chassis 2WD', 1991, 4.1122558654247925],\n",
       "  ['Cab/Chassis 2WD', 1990, 4.1122558654247925],\n",
       "  ['Cab/Chassis 2WD', 1989, 4.1122558654247925],\n",
       "  ['Camry CNG', 1999, -3.932541757118491],\n",
       "  ['Camry CNG', 2001, -3.9316423754756538],\n",
       "  ['Camry CNG', 2000, -3.9316423754756538],\n",
       "  ['Cab/Chassis 2WD', 1993, 3.3791118637260937]],\n",
       " 'Q5': [[1986, 26, 0.0],\n",
       "  [1987, 26, 0.0],\n",
       "  [1988, 25, -1.0],\n",
       "  [1989, 25, 0.0],\n",
       "  [1999, 24, -1.0],\n",
       "  [2000, 24, 0.0],\n",
       "  [2001, 24, 0.0],\n",
       "  [2002, 24, 0.0],\n",
       "  [2003, 24, 0.0],\n",
       "  [2004, 24, 0.0],\n",
       "  [2005, 24, 0.0],\n",
       "  [2006, 24, 0.0],\n",
       "  [2010, 25, 1.0],\n",
       "  [2011, 26, 1.0],\n",
       "  [2012, 26, 0.0],\n",
       "  [2013, 26, 0.0],\n",
       "  [2015, 30, 4.0],\n",
       "  [2016, 30, 0.0],\n",
       "  [2017, 29, -1.0]],\n",
       " 'Q6': [['Toyota', 133.0, 133.0, 133.0, 133.0, 158.0],\n",
       "  ['Ford', 112.0, 129.0, 129.0, 129.0, 129.0],\n",
       "  ['Volkswagen', 200.0, 200.0, 200.0, 200.0, 261.025641025641],\n",
       "  ['Nissan', 249.0, 254.0, 254.5, 254.5, 254.5],\n",
       "  ['Honda',\n",
       "   130.0,\n",
       "   167.67924528301887,\n",
       "   167.67924528301887,\n",
       "   167.67924528301887,\n",
       "   167.67924528301887]],\n",
       " 'Q7': [[(1984, 1988), 19.0],\n",
       "  [(1989, 1993), 18.0],\n",
       "  [(1994, 1998), 19.0],\n",
       "  [(1999, 2003), 19.0],\n",
       "  [(2004, 2008), 19.0],\n",
       "  [(2009, 2013), 21.0],\n",
       "  [(2014, 2018), 22.0]]}"
      ]
     },
     "execution_count": 28,
     "metadata": {},
     "output_type": "execute_result"
    }
   ],
   "source": [
    "answer_dict"
   ]
  },
  {
   "cell_type": "code",
   "execution_count": 29,
   "id": "fbd700a7",
   "metadata": {},
   "outputs": [
    {
     "name": "stdout",
     "output_type": "stream",
     "text": [
      "Paul_Felix_answers.pkl\n"
     ]
    }
   ],
   "source": [
    "import pickle\n",
    "\n",
    "file_name = \"Paul_Felix_answers.pkl\"\n",
    "path = \"\"\n",
    "\n",
    "print(path+file_name)\n",
    "\n",
    "with open(path+file_name, 'wb') as f:\n",
    "    pickle.dump(answer_dict, f, protocol=pickle.HIGHEST_PROTOCOL)"
   ]
  }
 ],
 "metadata": {
  "kernelspec": {
   "display_name": "Python 3",
   "language": "python",
   "name": "python3"
  },
  "language_info": {
   "codemirror_mode": {
    "name": "ipython",
    "version": 3
   },
   "file_extension": ".py",
   "mimetype": "text/x-python",
   "name": "python",
   "nbconvert_exporter": "python",
   "pygments_lexer": "ipython3",
   "version": "3.8.8"
  }
 },
 "nbformat": 4,
 "nbformat_minor": 5
}
